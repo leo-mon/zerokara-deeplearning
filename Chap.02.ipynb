{
 "cells": [
  {
   "cell_type": "markdown",
   "metadata": {},
   "source": [
    "### 2.3.1"
   ]
  },
  {
   "cell_type": "markdown",
   "metadata": {},
   "source": [
    "パーセプトロンの数式\n",
    "$$ \n",
    "y =  \n",
    "\\begin{cases}\n",
    "  0 & (w_1 x_1 + w_2 x_2 \\le \\theta)\\\\\n",
    "  1 & (w_1 x_1 + w_2 x_2 > \\theta)\n",
    "\\end{cases}\n",
    "\\tag{2.1}\n",
    "$$"
   ]
  },
  {
   "cell_type": "markdown",
   "metadata": {},
   "source": [
    "論理式をパーセプトロンに従って実装すると(せっかくなのでクラス化)"
   ]
  },
  {
   "cell_type": "code",
   "execution_count": 15,
   "metadata": {
    "collapsed": false
   },
   "outputs": [
    {
     "name": "stdout",
     "output_type": "stream",
     "text": [
      "1\n",
      "0\n",
      "1\n",
      "1\n"
     ]
    }
   ],
   "source": [
    "class perceptron(object):\n",
    "    def __init__(self, w1, w2, theta):\n",
    "        self.w1 = w1\n",
    "        self.w2 = w2\n",
    "        self.theta = theta\n",
    "    def __call__(self, x1, x2):\n",
    "        tmp = self.w1 * x1 + self.w2 *x2\n",
    "        if tmp <= self.theta:\n",
    "            return 0\n",
    "        elif tmp > self.theta:\n",
    "            return 1\n",
    "        \n",
    "AND = perceptron(w1=0.5,w2=0.5,theta=0.7)\n",
    "OR = perceptron(w1=0.5,w2=0.5,theta=0.4)\n",
    "\n",
    "print(AND(1,1))\n",
    "print(AND(1,0))\n",
    "print(OR(1,1))\n",
    "print(OR(1,0))"
   ]
  },
  {
   "cell_type": "markdown",
   "metadata": {},
   "source": [
    "### 2.2.3 重みとバイアスの導入"
   ]
  },
  {
   "cell_type": "markdown",
   "metadata": {},
   "source": [
    "$$ \n",
    "y =  \n",
    "\\begin{cases}\n",
    "  0 & (b + w_1 x_1 + w_2 x_2 \\le 0)\\\\\n",
    "  1 & (b + w_1 x_1 + w_2 x_2 > 0)\n",
    "\\end{cases}\n",
    "\\tag{2.1}\n",
    "$$"
   ]
  },
  {
   "cell_type": "code",
   "execution_count": 16,
   "metadata": {
    "collapsed": true
   },
   "outputs": [],
   "source": [
    "import numpy as np"
   ]
  },
  {
   "cell_type": "code",
   "execution_count": 21,
   "metadata": {
    "collapsed": false
   },
   "outputs": [
    {
     "data": {
      "text/plain": [
       "array([ 0. ,  0.5])"
      ]
     },
     "execution_count": 21,
     "metadata": {},
     "output_type": "execute_result"
    }
   ],
   "source": [
    "x = np.array([0,1])\n",
    "w = np.array([0.5,0.5])\n",
    "b = -0.7\n",
    "w*x"
   ]
  },
  {
   "cell_type": "code",
   "execution_count": 22,
   "metadata": {
    "collapsed": false
   },
   "outputs": [
    {
     "data": {
      "text/plain": [
       "0.5"
      ]
     },
     "execution_count": 22,
     "metadata": {},
     "output_type": "execute_result"
    }
   ],
   "source": [
    "np.sum(w*x)"
   ]
  },
  {
   "cell_type": "code",
   "execution_count": 23,
   "metadata": {
    "collapsed": false
   },
   "outputs": [
    {
     "data": {
      "text/plain": [
       "-0.19999999999999996"
      ]
     },
     "execution_count": 23,
     "metadata": {},
     "output_type": "execute_result"
    }
   ],
   "source": [
    "b = -0.7\n",
    "np.sum(w*x)+b"
   ]
  },
  {
   "cell_type": "markdown",
   "metadata": {},
   "source": [
    "これもせっかくなのでクラス化"
   ]
  },
  {
   "cell_type": "code",
   "execution_count": 34,
   "metadata": {
    "collapsed": false
   },
   "outputs": [
    {
     "name": "stdout",
     "output_type": "stream",
     "text": [
      "0\n",
      "1\n",
      "1\n"
     ]
    }
   ],
   "source": [
    "class Perceptron(object):\n",
    "    def __init__(self, w1, w2, b):\n",
    "        self.w = np.array([w1, w2])\n",
    "        self.b = b\n",
    "        \n",
    "    def __call__(self, x1, x2):\n",
    "        x = np.array([x1, x2])\n",
    "        tmp = self.b + np.sum(self.w * x)\n",
    "        if tmp <= 0:\n",
    "            return 0\n",
    "        elif tmp > 0:\n",
    "            return 1\n",
    "AND = Perceptron(0.5, 0.5, -0.7)\n",
    "print(AND(1,0))\n",
    "NAND = Perceptron(-0.5, -0.5, 0.7)\n",
    "print(NAND(1,0))\n",
    "OR = Perceptron(0.5, 0.5, -0.2)\n",
    "print(OR(1,0))\n"
   ]
  },
  {
   "cell_type": "code",
   "execution_count": 37,
   "metadata": {
    "collapsed": false
   },
   "outputs": [
    {
     "name": "stdout",
     "output_type": "stream",
     "text": [
      "0\n",
      "1\n",
      "1\n",
      "0\n"
     ]
    }
   ],
   "source": [
    "def XOR(x1, x2):\n",
    "    s1 = NAND(x1,x2)\n",
    "    s2 = OR(x1,x2)\n",
    "    y = AND(s1, s2)\n",
    "    return y\n",
    "\n",
    "print(XOR(0,0))\n",
    "print(XOR(1,0))\n",
    "print(XOR(0,1))\n",
    "print(XOR(1,1))\n"
   ]
  },
  {
   "cell_type": "markdown",
   "metadata": {},
   "source": []
  }
 ],
 "metadata": {
  "anaconda-cloud": {},
  "kernelspec": {
   "display_name": "Python [conda root]",
   "language": "python",
   "name": "conda-root-py"
  },
  "language_info": {
   "codemirror_mode": {
    "name": "ipython",
    "version": 3
   },
   "file_extension": ".py",
   "mimetype": "text/x-python",
   "name": "python",
   "nbconvert_exporter": "python",
   "pygments_lexer": "ipython3",
   "version": "3.5.2"
  }
 },
 "nbformat": 4,
 "nbformat_minor": 1
}
